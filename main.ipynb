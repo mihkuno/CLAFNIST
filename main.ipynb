{
 "cells": [
  {
   "cell_type": "markdown",
   "metadata": {},
   "source": [
    "#### A Reduced Neural Network Without Convolution Layer for Classifying Grayscale Images with Distinct Features"
   ]
  },
  {
   "cell_type": "code",
   "execution_count": 158,
   "metadata": {},
   "outputs": [],
   "source": [
    "import numpy as np\n",
    "import tensorflow as tf\n",
    "import matplotlib.pyplot as plt"
   ]
  },
  {
   "cell_type": "code",
   "execution_count": 159,
   "metadata": {},
   "outputs": [],
   "source": [
    "\n",
    "# Load the MNIST dataset\n",
    "mnist = tf.keras.datasets.mnist\n",
    "(x_train, y_train), (x_test, y_test) = mnist.load_data()\n",
    "\n",
    "# Normalize the data to 0-1 range\n",
    "x_train, x_test = x_train / 255.0, x_test / 255.0\n"
   ]
  },
  {
   "cell_type": "code",
   "execution_count": 160,
   "metadata": {},
   "outputs": [
    {
     "data": {
      "text/plain": [
       "(28, 28)"
      ]
     },
     "execution_count": 160,
     "metadata": {},
     "output_type": "execute_result"
    }
   ],
   "source": [
    "# Select an image to experiment with\n",
    "image = x_train[0]\n",
    "image.shape"
   ]
  },
  {
   "cell_type": "code",
   "execution_count": 167,
   "metadata": {},
   "outputs": [
    {
     "name": "stdout",
     "output_type": "stream",
     "text": [
      "5\n"
     ]
    }
   ],
   "source": [
    "print(y_train[0])"
   ]
  },
  {
   "cell_type": "code",
   "execution_count": 161,
   "metadata": {},
   "outputs": [
    {
     "data": {
      "image/png": "[encoded data removed]",
      "text/plain": [
       "<Figure size 640x480 with 1 Axes>"
      ]
     },
     "metadata": {},
     "output_type": "display_data"
    }
   ],
   "source": [
    "# Show the image with matplotlib\n",
    "plt.imshow(image, cmap='gray')\n",
    "plt.show()  "
   ]
  },
  {
   "cell_type": "code",
   "execution_count": 162,
   "metadata": {},
   "outputs": [
    {
     "name": "stdout",
     "output_type": "stream",
     "text": [
      " .  .  .  .  .  .  .  .  .  .  .  .  .  .  .  .  .  .  .  .  .  .  .  .  .  .  .  . \n",
      " .  .  .  .  .  .  .  .  .  .  .  .  .  .  .  .  .  .  .  .  .  .  .  .  .  .  .  . \n",
      " .  .  .  .  .  .  .  .  .  .  .  .  .  .  .  .  .  .  .  .  .  .  .  .  .  .  .  . \n",
      " .  .  .  .  .  .  .  .  .  .  .  .  .  .  .  .  .  .  .  .  .  .  .  .  .  .  .  . \n",
      " .  .  .  .  .  .  .  .  .  .  .  .  .  .  .  .  .  .  .  .  .  .  .  .  .  .  .  . \n",
      " .  .  .  .  .  .  .  .  .  .  .  .  #  #  #  #  #  #  #  #  #  #  #  #  .  .  .  . \n",
      " .  .  .  .  .  .  .  .  #  #  #  #  #  #  #  #  #  #  #  #  #  #  #  #  .  .  .  . \n",
      " .  .  .  .  .  .  .  #  #  #  #  #  #  #  #  #  #  #  #  #  #  #  #  .  .  .  .  . \n",
      " .  .  .  .  .  .  .  #  #  #  #  #  #  #  #  #  #  #  .  .  .  .  .  .  .  .  .  . \n",
      " .  .  .  .  .  .  .  .  #  #  #  #  #  #  #  .  #  #  .  .  .  .  .  .  .  .  .  . \n",
      " .  .  .  .  .  .  .  .  .  #  #  #  #  #  .  .  .  .  .  .  .  .  .  .  .  .  .  . \n",
      " .  .  .  .  .  .  .  .  .  .  .  #  #  #  #  .  .  .  .  .  .  .  .  .  .  .  .  . \n",
      " .  .  .  .  .  .  .  .  .  .  .  #  #  #  #  .  .  .  .  .  .  .  .  .  .  .  .  . \n",
      " .  .  .  .  .  .  .  .  .  .  .  .  #  #  #  #  #  #  .  .  .  .  .  .  .  .  .  . \n",
      " .  .  .  .  .  .  .  .  .  .  .  .  .  #  #  #  #  #  #  .  .  .  .  .  .  .  .  . \n",
      " .  .  .  .  .  .  .  .  .  .  .  .  .  .  #  #  #  #  #  #  .  .  .  .  .  .  .  . \n",
      " .  .  .  .  .  .  .  .  .  .  .  .  .  .  .  #  #  #  #  #  .  .  .  .  .  .  .  . \n",
      " .  .  .  .  .  .  .  .  .  .  .  .  .  .  .  .  .  #  #  #  #  .  .  .  .  .  .  . \n",
      " .  .  .  .  .  .  .  .  .  .  .  .  .  .  #  #  #  #  #  #  #  .  .  .  .  .  .  . \n",
      " .  .  .  .  .  .  .  .  .  .  .  .  #  #  #  #  #  #  #  #  .  .  .  .  .  .  .  . \n",
      " .  .  .  .  .  .  .  .  .  .  #  #  #  #  #  #  #  #  #  .  .  .  .  .  .  .  .  . \n",
      " .  .  .  .  .  .  .  .  #  #  #  #  #  #  #  #  #  #  .  .  .  .  .  .  .  .  .  . \n",
      " .  .  .  .  .  .  #  #  #  #  #  #  #  #  #  #  .  .  .  .  .  .  .  .  .  .  .  . \n",
      " .  .  .  .  #  #  #  #  #  #  #  #  #  #  .  .  .  .  .  .  .  .  .  .  .  .  .  . \n",
      " .  .  .  .  #  #  #  #  #  #  #  #  .  .  .  .  .  .  .  .  .  .  .  .  .  .  .  . \n",
      " .  .  .  .  .  .  .  .  .  .  .  .  .  .  .  .  .  .  .  .  .  .  .  .  .  .  .  . \n",
      " .  .  .  .  .  .  .  .  .  .  .  .  .  .  .  .  .  .  .  .  .  .  .  .  .  .  .  . \n",
      " .  .  .  .  .  .  .  .  .  .  .  .  .  .  .  .  .  .  .  .  .  .  .  .  .  .  .  . \n"
     ]
    }
   ],
   "source": [
    "# Show the image as a matrix\n",
    "for row in image:\n",
    "    for val in row:\n",
    "        if val > 0: \n",
    "            print(' # ', end='')\n",
    "        else:\n",
    "            print(' . ', end='')\n",
    "    print()"
   ]
  },
  {
   "cell_type": "code",
   "execution_count": 163,
   "metadata": {},
   "outputs": [
    {
     "name": "stdout",
     "output_type": "stream",
     "text": [
      " .  .  .  . \n",
      " .  .  .  . \n",
      " .  .  .  . \n",
      " .  .  .  . \n",
      "\n",
      " .  .  .  . \n",
      " .  .  .  . \n",
      " .  .  .  . \n",
      " .  .  .  . \n",
      "\n",
      " .  .  .  . \n",
      " .  .  .  . \n",
      " .  .  .  . \n",
      " .  .  .  . \n",
      "\n",
      " .  .  .  . \n",
      " .  .  .  . \n",
      " .  .  .  . \n",
      " .  .  .  . \n",
      "\n",
      " .  .  .  . \n",
      " .  .  .  . \n",
      " .  .  .  . \n",
      " .  .  .  . \n",
      "\n",
      " .  .  .  . \n",
      " .  .  .  . \n",
      " .  .  .  . \n",
      " .  .  .  . \n",
      "\n",
      " .  .  .  . \n",
      " .  .  .  . \n",
      " .  .  .  . \n",
      " .  .  .  . \n",
      "\n",
      " .  .  .  . \n",
      " .  .  .  . \n",
      " .  .  .  . \n",
      " .  .  .  . \n",
      "\n",
      " .  .  .  . \n",
      " .  .  .  . \n",
      " .  .  .  . \n",
      " .  .  .  # \n",
      "\n",
      " .  .  .  . \n",
      " .  .  .  . \n",
      " #  #  #  # \n",
      " #  #  #  # \n",
      "\n",
      " .  .  .  . \n",
      " #  #  #  # \n",
      " #  #  #  # \n",
      " #  #  #  # \n",
      "\n",
      " .  .  .  . \n",
      " #  #  #  # \n",
      " #  #  #  # \n",
      " #  #  #  # \n",
      "\n",
      " .  .  .  . \n",
      " #  #  #  # \n",
      " #  #  #  # \n",
      " #  #  #  . \n",
      "\n",
      " .  .  .  . \n",
      " .  .  .  . \n",
      " .  .  .  . \n",
      " .  .  .  . \n",
      "\n",
      " .  .  .  . \n",
      " .  .  .  . \n",
      " .  .  .  . \n",
      " .  .  .  . \n",
      "\n",
      " .  .  .  # \n",
      " .  .  .  . \n",
      " .  .  .  . \n",
      " .  .  .  . \n",
      "\n",
      " #  #  #  # \n",
      " #  #  #  # \n",
      " .  #  #  # \n",
      " .  .  .  # \n",
      "\n",
      " #  #  #  # \n",
      " #  #  #  . \n",
      " #  #  .  . \n",
      " #  #  #  . \n",
      "\n",
      " #  #  .  . \n",
      " #  #  .  . \n",
      " .  .  .  . \n",
      " .  .  .  . \n",
      "\n",
      " .  .  .  . \n",
      " .  .  .  . \n",
      " .  .  .  . \n",
      " .  .  .  . \n",
      "\n",
      " .  .  .  . \n",
      " .  .  .  . \n",
      " .  .  .  . \n",
      " .  .  .  . \n",
      "\n",
      " .  .  .  . \n",
      " .  .  .  . \n",
      " .  .  .  . \n",
      " .  .  .  . \n",
      "\n",
      " .  .  .  . \n",
      " .  .  .  . \n",
      " .  .  .  . \n",
      " .  .  .  . \n",
      "\n",
      " .  .  .  # \n",
      " .  .  .  . \n",
      " .  .  .  . \n",
      " .  .  .  . \n",
      "\n",
      " #  #  #  . \n",
      " #  #  #  # \n",
      " .  #  #  # \n",
      " .  .  #  # \n",
      "\n",
      " .  .  .  . \n",
      " #  #  .  . \n",
      " #  #  #  . \n",
      " #  #  #  # \n",
      "\n",
      " .  .  .  . \n",
      " .  .  .  . \n",
      " .  .  .  . \n",
      " .  .  .  . \n",
      "\n",
      " .  .  .  . \n",
      " .  .  .  . \n",
      " .  .  .  . \n",
      " .  .  .  . \n",
      "\n",
      " .  .  .  . \n",
      " .  .  .  . \n",
      " .  .  .  . \n",
      " .  .  .  . \n",
      "\n",
      " .  .  .  . \n",
      " .  .  .  . \n",
      " .  .  .  . \n",
      " .  .  .  . \n",
      "\n",
      " .  .  .  . \n",
      " .  .  .  . \n",
      " .  .  .  . \n",
      " .  .  .  . \n",
      "\n",
      " .  .  .  # \n",
      " .  .  .  . \n",
      " .  .  #  # \n",
      " #  #  #  # \n",
      "\n",
      " #  #  #  # \n",
      " .  #  #  # \n",
      " #  #  #  # \n",
      " #  #  #  # \n",
      "\n",
      " .  .  .  . \n",
      " #  .  .  . \n",
      " #  .  .  . \n",
      " .  .  .  . \n",
      "\n",
      " .  .  .  . \n",
      " .  .  .  . \n",
      " .  .  .  . \n",
      " .  .  .  . \n",
      "\n",
      " .  .  .  . \n",
      " .  .  .  . \n",
      " .  .  .  . \n",
      " .  .  .  . \n",
      "\n",
      " .  .  .  . \n",
      " .  .  .  . \n",
      " .  .  #  # \n",
      " #  #  #  # \n",
      "\n",
      " .  .  #  # \n",
      " #  #  #  # \n",
      " #  #  #  # \n",
      " #  #  #  # \n",
      "\n",
      " #  #  #  # \n",
      " #  #  #  # \n",
      " #  #  #  # \n",
      " #  #  .  . \n",
      "\n",
      " #  #  #  . \n",
      " #  #  .  . \n",
      " .  .  .  . \n",
      " .  .  .  . \n",
      "\n",
      " .  .  .  . \n",
      " .  .  .  . \n",
      " .  .  .  . \n",
      " .  .  .  . \n",
      "\n",
      " .  .  .  . \n",
      " .  .  .  . \n",
      " .  .  .  . \n",
      " .  .  .  . \n",
      "\n",
      " .  .  .  . \n",
      " .  .  .  . \n",
      " .  .  .  . \n",
      " .  .  .  . \n",
      "\n",
      " #  #  #  # \n",
      " .  .  .  . \n",
      " .  .  .  . \n",
      " .  .  .  . \n",
      "\n",
      " #  #  #  # \n",
      " .  .  .  . \n",
      " .  .  .  . \n",
      " .  .  .  . \n",
      "\n",
      " .  .  .  . \n",
      " .  .  .  . \n",
      " .  .  .  . \n",
      " .  .  .  . \n",
      "\n",
      " .  .  .  . \n",
      " .  .  .  . \n",
      " .  .  .  . \n",
      " .  .  .  . \n",
      "\n",
      " .  .  .  . \n",
      " .  .  .  . \n",
      " .  .  .  . \n",
      " .  .  .  . \n",
      "\n",
      " .  .  .  . \n",
      " .  .  .  . \n",
      " .  .  .  . \n",
      " .  .  .  . \n",
      "\n"
     ]
    }
   ],
   "source": [
    "split = 4 # must be divisible by the square image shape\n",
    "          # for ex. 28x28 -> 4, 7, 14, 28 \n",
    "\n",
    "\n",
    "\n",
    "section = []\n",
    "for i in range(7):\n",
    "    for j in range(7):\n",
    "        section.append(\n",
    "            image[4*i:4*(i+1), 4*j:4*(j+1)]\n",
    "        )\n",
    "\n",
    "for s in section:\n",
    "    for row in s:\n",
    "        for col in row:\n",
    "            if col > 0: \n",
    "                print(' # ', end='')\n",
    "            else:\n",
    "                print(' . ', end='')\n",
    "        print()\n",
    "    print()"
   ]
  },
  {
   "cell_type": "code",
   "execution_count": 164,
   "metadata": {},
   "outputs": [
    {
     "name": "stdout",
     "output_type": "stream",
     "text": [
      " .  .  .  .    .  .  .  .    .  .  .  .    .  .  .  .    .  .  .  .    .  .  .  .    .  .  .  .   \n",
      " .  .  .  .    .  .  .  .    .  .  .  .    .  .  .  .    .  .  .  .    .  .  .  .    .  .  .  .   \n",
      " .  .  .  .    .  .  .  .    .  .  .  .    .  .  .  .    .  .  .  .    .  .  .  .    .  .  .  .   \n",
      " .  .  .  .    .  .  .  .    .  .  .  .    .  .  .  .    .  .  .  .    .  .  .  .    .  .  .  .   \n",
      "\n",
      " .  .  .  .    .  .  .  .    .  .  .  .    .  .  .  .    .  .  .  .    .  .  .  .    .  .  .  .   \n",
      " .  .  .  .    .  .  .  .    .  .  .  .    #  #  #  #    #  #  #  #    #  #  #  #    .  .  .  .   \n",
      " .  .  .  .    .  .  .  .    #  #  #  #    #  #  #  #    #  #  #  #    #  #  #  #    .  .  .  .   \n",
      " .  .  .  .    .  .  .  #    #  #  #  #    #  #  #  #    #  #  #  #    #  #  #  .    .  .  .  .   \n",
      "\n",
      " .  .  .  .    .  .  .  #    #  #  #  #    #  #  #  #    #  #  .  .    .  .  .  .    .  .  .  .   \n",
      " .  .  .  .    .  .  .  .    #  #  #  #    #  #  #  .    #  #  .  .    .  .  .  .    .  .  .  .   \n",
      " .  .  .  .    .  .  .  .    .  #  #  #    #  #  .  .    .  .  .  .    .  .  .  .    .  .  .  .   \n",
      " .  .  .  .    .  .  .  .    .  .  .  #    #  #  #  .    .  .  .  .    .  .  .  .    .  .  .  .   \n",
      "\n",
      " .  .  .  .    .  .  .  .    .  .  .  #    #  #  #  .    .  .  .  .    .  .  .  .    .  .  .  .   \n",
      " .  .  .  .    .  .  .  .    .  .  .  .    #  #  #  #    #  #  .  .    .  .  .  .    .  .  .  .   \n",
      " .  .  .  .    .  .  .  .    .  .  .  .    .  #  #  #    #  #  #  .    .  .  .  .    .  .  .  .   \n",
      " .  .  .  .    .  .  .  .    .  .  .  .    .  .  #  #    #  #  #  #    .  .  .  .    .  .  .  .   \n",
      "\n",
      " .  .  .  .    .  .  .  .    .  .  .  .    .  .  .  #    #  #  #  #    .  .  .  .    .  .  .  .   \n",
      " .  .  .  .    .  .  .  .    .  .  .  .    .  .  .  .    .  #  #  #    #  .  .  .    .  .  .  .   \n",
      " .  .  .  .    .  .  .  .    .  .  .  .    .  .  #  #    #  #  #  #    #  .  .  .    .  .  .  .   \n",
      " .  .  .  .    .  .  .  .    .  .  .  .    #  #  #  #    #  #  #  #    .  .  .  .    .  .  .  .   \n",
      "\n",
      " .  .  .  .    .  .  .  .    .  .  #  #    #  #  #  #    #  #  #  .    .  .  .  .    .  .  .  .   \n",
      " .  .  .  .    .  .  .  .    #  #  #  #    #  #  #  #    #  #  .  .    .  .  .  .    .  .  .  .   \n",
      " .  .  .  .    .  .  #  #    #  #  #  #    #  #  #  #    .  .  .  .    .  .  .  .    .  .  .  .   \n",
      " .  .  .  .    #  #  #  #    #  #  #  #    #  #  .  .    .  .  .  .    .  .  .  .    .  .  .  .   \n",
      "\n",
      " .  .  .  .    #  #  #  #    #  #  #  #    .  .  .  .    .  .  .  .    .  .  .  .    .  .  .  .   \n",
      " .  .  .  .    .  .  .  .    .  .  .  .    .  .  .  .    .  .  .  .    .  .  .  .    .  .  .  .   \n",
      " .  .  .  .    .  .  .  .    .  .  .  .    .  .  .  .    .  .  .  .    .  .  .  .    .  .  .  .   \n",
      " .  .  .  .    .  .  .  .    .  .  .  .    .  .  .  .    .  .  .  .    .  .  .  .    .  .  .  .   \n",
      "\n"
     ]
    }
   ],
   "source": [
    "# reconstruct the image sections\n",
    "\n",
    "rows = []\n",
    "for i in range(7):\n",
    "    cols = []\n",
    "    for j in range(7):\n",
    "        cols.append(\n",
    "            section[7*i+j]\n",
    "        )\n",
    "        \n",
    "    rows.append(cols)\n",
    "    \n",
    "\n",
    "for r in rows:\n",
    "    for i in range(4):\n",
    "        for c in r:\n",
    "            for j in range(4):\n",
    "                if c[i][j] > 0: \n",
    "                    print(' # ', end='')\n",
    "                else:\n",
    "                    print(' . ', end='')\n",
    "            print('  ', end='')\n",
    "        print()\n",
    "    print()\n",
    "    "
   ]
  },
  {
   "cell_type": "code",
   "execution_count": 165,
   "metadata": {},
   "outputs": [
    {
     "name": "stdout",
     "output_type": "stream",
     "text": [
      "0.00 0.00 0.00 0.00 0.00 0.00 0.00 \n",
      "0.00 0.00 0.00 0.00 0.01 0.32 0.49 \n",
      "0.01 0.32 0.49 0.50 0.42 0.00 0.00 \n",
      "0.42 0.00 0.00 0.00 0.46 0.53 0.17 \n",
      "0.46 0.53 0.17 0.00 0.00 0.00 0.00 \n",
      "0.00 0.00 0.00 0.00 0.49 0.29 0.00 \n",
      "0.49 0.29 0.00 0.00 0.00 0.00 0.00 \n"
     ]
    }
   ],
   "source": [
    "# Get the average brightness of each section\n",
    "\n",
    "brightness = []\n",
    "\n",
    "for s in section:\n",
    "    brightness.append(np.mean(s))\n",
    "\n",
    "        \n",
    "for i in range(7):\n",
    "    for j in range(7):\n",
    "        print(f'{brightness[4*i+j]:.2f}', end=' ')\n",
    "    print()"
   ]
  },
  {
   "cell_type": "code",
   "execution_count": 166,
   "metadata": {},
   "outputs": [
    {
     "data": {
      "image/png": "[encoded data removed]",
      "text/plain": [
       "<Figure size 640x480 with 1 Axes>"
      ]
     },
     "metadata": {},
     "output_type": "display_data"
    }
   ],
   "source": [
    "# Show the brightness as a matrix image\n",
    "plt.imshow(np.array(brightness).reshape(7, 7), cmap='gray')\n",
    "plt.show()"
   ]
  },
  {
   "cell_type": "code",
   "execution_count": 168,
   "metadata": {},
   "outputs": [
    {
     "ename": "ValueError",
     "evalue": "too many values to unpack (expected 2)",
     "output_type": "error",
     "traceback": [
      "\u001b[1;31m---------------------------------------------------------------------------\u001b[0m",
      "\u001b[1;31mValueError\u001b[0m                                Traceback (most recent call last)",
      "Cell \u001b[1;32mIn[168], line 3\u001b[0m\n\u001b[0;32m      1\u001b[0m \u001b[38;5;66;03m# Downscale all images to 7x7 sections\u001b[39;00m\n\u001b[1;32m----> 3\u001b[0m \u001b[38;5;28;01mfor\u001b[39;00m image, label \u001b[38;5;129;01min\u001b[39;00m [x_train, y_train]:\n\u001b[0;32m      4\u001b[0m     \u001b[38;5;28mprint\u001b[39m(image, label)\n",
      "\u001b[1;31mValueError\u001b[0m: too many values to unpack (expected 2)"
     ]
    }
   ],
   "source": [
    "# Downscale all images to 7x7 sections\n",
    "\n",
    "# Iterate over the images and labels together\n",
    "for image, label in zip(x_train, y_train):\n",
    "    # Now you can use `image` and `label` at the same index\n",
    "    print(f\"Image shape: {image.shape}, Label: {label}\")\n"
   ]
  }
 ],
 "metadata": {
  "kernelspec": {
   "display_name": "venv",
   "language": "python",
   "name": "python3"
  },
  "language_info": {
   "codemirror_mode": {
    "name": "ipython",
    "version": 3
   },
   "file_extension": ".py",
   "mimetype": "text/x-python",
   "name": "python",
   "nbconvert_exporter": "python",
   "pygments_lexer": "ipython3",
   "version": "3.10.11"
  }
 },
 "nbformat": 4,
 "nbformat_minor": 2
}
